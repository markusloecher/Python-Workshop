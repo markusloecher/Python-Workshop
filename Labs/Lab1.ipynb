{
 "cells": [
  {
   "attachments": {},
   "cell_type": "markdown",
   "metadata": {},
   "source": [
    "# Lists, Loops, Conditions\n",
    "\n",
    "In this lab we will get to know and become experts in:\n",
    "\n",
    "1. Lists\n",
    "    * DataCamp, [Introduction to Python](https://app.datacamp.com/learn/courses/intro-to-python-for-data-science), Chap 2\n",
    "2. Loops\n",
    "    * DataCamp, [Intermediate Python](https://campus.datacamp.com/courses/intermediate-python), Chap 4\n",
    "3. Conditions\n",
    "    * DataCamp, [Intermediate Python](https://campus.datacamp.com/courses/intermediate-python), Chap 3"
   ]
  },
  {
   "attachments": {},
   "cell_type": "markdown",
   "metadata": {},
   "source": [
    "### Manipulating lists of lists\n",
    "\n",
    "The following list of lists contains names of sections in a house and their area.\n",
    "\n",
    "1. Extract the area corresponding to kitchen\n",
    "2. String Tasks:\n",
    "    - Extract the first letters of each string\n",
    "    - Capitalize all strings\n",
    "    - Replace all occurrences of \"room\" with \"rm\"\n",
    "    - count the number of \"l\" in \"hallway\" \n",
    "3. Insert a \"home office\" with area 10.75 after living room\n",
    "4. Append the total area to the end of the list\n",
    "5. **Boolean** operations:\n",
    "    - Generate one True and one False by comparing areas\n",
    "    - Generate one True and one False by comparing names\n",
    "     "
   ]
  },
  {
   "cell_type": "code",
   "execution_count": 1,
   "metadata": {},
   "outputs": [],
   "source": [
    "house = [['hallway', 11.25],\n",
    " ['kitchen', 18.0],\n",
    " ['living room', 20.0],\n",
    " ['bedroom', 10.75],\n",
    " ['bathroom', 9.5]]"
   ]
  },
  {
   "attachments": {},
   "cell_type": "markdown",
   "metadata": {},
   "source": [
    "### Automation by iterating\n",
    "\n",
    "**for loops** are a powerful way of automating MANY otherwise tedious tasks that repeat.\n",
    "\n",
    "1. Repeat the tasks 2 and 4 from above by using a for loop\n",
    "    - using `enumerate`\n",
    "    - using `range`\n",
    "2. Create two separates new lists which contain only the names and areas separately\n",
    "3. [Clever Carl](https://nrich.maths.org/2478#:~:text=Gauss%20added%20the%20rows%20pairwise,quantity%20in%20a%20clever%20way.): Compute \n",
    "$$\n",
    "\\sum_{i=1}^{100}{i}\n",
    "$$ "
   ]
  },
  {
   "cell_type": "code",
   "execution_count": 27,
   "metadata": {},
   "outputs": [
    {
     "data": {
      "text/plain": [
       "[0, 1, 2, 3, 4]"
      ]
     },
     "execution_count": 27,
     "metadata": {},
     "output_type": "execute_result"
    }
   ],
   "source": [
    "list(range(5))"
   ]
  },
  {
   "attachments": {},
   "cell_type": "markdown",
   "metadata": {},
   "source": [
    "### Conditions\n",
    "\n",
    "1. Find the **max** of the areas by using `if` inside a for loop\n",
    "2. Print those elements of the list with \n",
    "    - area $> 15$\n",
    "    - strings that contain \"room\" (or \"rm\" after your substitution)\n",
    "\n"
   ]
  }
 ],
 "metadata": {
  "kernelspec": {
   "display_name": ".venv",
   "language": "python",
   "name": "python3"
  },
  "language_info": {
   "codemirror_mode": {
    "name": "ipython",
    "version": 3
   },
   "file_extension": ".py",
   "mimetype": "text/x-python",
   "name": "python",
   "nbconvert_exporter": "python",
   "pygments_lexer": "ipython3",
   "version": "3.9.6"
  },
  "orig_nbformat": 4,
  "vscode": {
   "interpreter": {
    "hash": "cc4e3cb0b66e3cf40341812cc2bd10256c32822435ddcf03aec3c5d3b18cd7d2"
   }
  }
 },
 "nbformat": 4,
 "nbformat_minor": 2
}
