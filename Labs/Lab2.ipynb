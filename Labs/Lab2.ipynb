{
 "cells": [
  {
   "attachments": {},
   "cell_type": "markdown",
   "metadata": {},
   "source": [
    "# Functions, Dictionaries\n",
    "\n",
    "In this lab we will get to know and become experts in:\n",
    "\n",
    "1. [Functions](#Functions)\n",
    "    * DataCamp, [Introduction to Python](https://app.datacamp.com/learn/courses/intro-to-python-for-data-science), Chap 3\n",
    "2. [Dictionaries](#Dictionaries)\n",
    "    * DataCamp, [Intermediate Python](https://campus.datacamp.com/courses/intermediate-python), Chap 2\n",
    "3. [Introduction to numpy](#Introduction-to-numpy)\n",
    "    * DataCamp, [Introduction to Python](https://app.datacamp.com/learn/courses/intro-to-python-for-data-science), Chap 4\n",
    "    \n"
   ]
  },
  {
   "attachments": {},
   "cell_type": "markdown",
   "metadata": {},
   "source": [
    "### Functions\n",
    "\n",
    "[Functions](https://wesmckinney.com/book/python-builtin.html#functions) are essential building blocks to **reuse code** and to **modularize code**. \n",
    "\n",
    "We have already seen and used many **built-in functions/methods** such as `print()`, `len()`, `max()`, `round()`, `index()`, `capitalize()`, etc.."
   ]
  },
  {
   "cell_type": "code",
   "execution_count": 4,
   "metadata": {},
   "outputs": [
    {
     "name": "stdout",
     "output_type": "stream",
     "text": [
      "20.0\n",
      "6\n",
      "10.8\n",
      "1\n"
     ]
    }
   ],
   "source": [
    "areas = [11.25, 18.0, 20.0, 10.75, 10.75, 9.5]\n",
    "print(max(areas))\n",
    "print(len(areas))\n",
    "print(round(10.75,1))\n",
    "print(areas.index(18.0))\n"
   ]
  },
  {
   "attachments": {},
   "cell_type": "markdown",
   "metadata": {},
   "source": [
    "But of course we want to define our own functions as well !\n",
    "As a rule of thumb, if you anticipate needing to repeat the same or very similar code more than once, it may be worth writing a reusable function. Functions can also help make your code more readable by giving a name to a group of Python statements.\n",
    "\n",
    "For example, we computed the BMI previously as follows:"
   ]
  },
  {
   "cell_type": "code",
   "execution_count": 6,
   "metadata": {},
   "outputs": [
    {
     "name": "stdout",
     "output_type": "stream",
     "text": [
      "21.44127836209856\n"
     ]
    }
   ],
   "source": [
    "height = 1.79\n",
    "weight = 68.7\n",
    "bmi = weight/height**2\n",
    "print(bmi)"
   ]
  },
  {
   "attachments": {},
   "cell_type": "markdown",
   "metadata": {},
   "source": [
    "Functions are declared with the `def` keyword. A function contains a block of code with an optional use of the `return` keyword:"
   ]
  },
  {
   "cell_type": "code",
   "execution_count": 5,
   "metadata": {},
   "outputs": [
    {
     "data": {
      "text/plain": [
       "21.44127836209856"
      ]
     },
     "execution_count": 5,
     "metadata": {},
     "output_type": "execute_result"
    }
   ],
   "source": [
    "def compute_bmi(height, weight):\n",
    "    return weight/height**2\n",
    "\n",
    "compute_bmi(1.79, 68.7)"
   ]
  },
  {
   "attachments": {},
   "cell_type": "markdown",
   "metadata": {},
   "source": [
    "Each function can have *positional* arguments and *keyword* arguments. Keyword arguments are most commonly used to specify default values or optional arguments. For example: "
   ]
  },
  {
   "cell_type": "code",
   "execution_count": 8,
   "metadata": {},
   "outputs": [
    {
     "name": "stdout",
     "output_type": "stream",
     "text": [
      "21.44\n",
      "21.4413\n"
     ]
    }
   ],
   "source": [
    "def compute_bmi(height, weight, ndigits=2):\n",
    "    return round(weight/height**2, ndigits)\n",
    "\n",
    "print(compute_bmi(1.79, 68.7))\n",
    "print(compute_bmi(1.79, 68.7,4))"
   ]
  },
  {
   "attachments": {},
   "cell_type": "markdown",
   "metadata": {},
   "source": [
    "#### Multiple Return Values\n",
    "\n",
    "are easily possible in python:"
   ]
  },
  {
   "cell_type": "code",
   "execution_count": 12,
   "metadata": {},
   "outputs": [
    {
     "name": "stdout",
     "output_type": "stream",
     "text": [
      "(21.44, 'healthy')\n",
      "(17.17, 'underweight')\n"
     ]
    }
   ],
   "source": [
    "def compute_bmi(height, weight, ndigits=2):\n",
    "    bmi = round(weight/height**2, ndigits)\n",
    "    #https://www.cdc.gov/healthyweight/assessing/index.html#:~:text=If%20your%20BMI%20is%20less,falls%20within%20the%20obese%20range.\n",
    "    if bmi < 18.5:\n",
    "        status=\"underweight\"\n",
    "    elif bmi <= 24.9:\n",
    "        status=\"healthy\"\n",
    "    elif bmi <= 29.9:\n",
    "        status=\"underweight\"\n",
    "    elif bmi >= 30:#note that a simple else would suffice here!\n",
    "        status=\"obese\"\n",
    "    return bmi, status\n",
    "\n",
    "print(compute_bmi(1.79, 68.7))\n",
    "print(compute_bmi(1.79, 55))"
   ]
  },
  {
   "attachments": {},
   "cell_type": "markdown",
   "metadata": {},
   "source": [
    "Recall from the previous lab how we \n",
    "\n",
    "1. found the largest room,\n",
    "2. computed the sum of integers from 1 to 100"
   ]
  },
  {
   "cell_type": "code",
   "execution_count": 1,
   "metadata": {},
   "outputs": [
    {
     "name": "stdout",
     "output_type": "stream",
     "text": [
      "The max is: 20.0\n"
     ]
    }
   ],
   "source": [
    "#find the maximum area:\n",
    "areas = [11.25, 18.0, 20.0, 10.75, 10.75, 9.5]\n",
    "currentMax = areas[0] # initialize to the first area seen\n",
    "\n",
    "for a in areas:\n",
    "  if a > currentMax:\n",
    "    currentMax = a\n",
    "\n",
    "print(\"The max is:\", currentMax)"
   ]
  },
  {
   "cell_type": "code",
   "execution_count": null,
   "metadata": {},
   "outputs": [],
   "source": [
    "#Clever IDB students: Compute the sum from 1 to 100:\n",
    "Total =0\n",
    "\n",
    "for i in range(101):#strictly speaking we are adding the first  0 \n",
    "  Total = Total + i\n",
    "  #Total += i\n",
    "\n",
    "print(Total)"
   ]
  },
  {
   "attachments": {},
   "cell_type": "markdown",
   "metadata": {},
   "source": [
    "#### Tasks\n",
    "\n",
    "Write your own function\n",
    "\n",
    "1. to find the min and max of a list\n",
    "2. to compute the Gauss sum with defaukt values $m=1, n=100$\n",
    "$$\n",
    "\\sum_{i=m}^{n}{i}\n",
    "$$ \n"
   ]
  },
  {
   "cell_type": "code",
   "execution_count": null,
   "metadata": {},
   "outputs": [],
   "source": []
  },
  {
   "attachments": {},
   "cell_type": "markdown",
   "metadata": {},
   "source": [
    "#### Namespaces and Scope\n",
    "\n",
    "Functions seem straightforward. \n",
    "But one of the more confusing aspects in the beginning is the concept that we can have **multiple instances** of the same variable! \n",
    "\n",
    "Functions can access variables created inside the function as well as those outside the function in higher (or even global) scopes. An alternative and more descriptive name describing a variable scope in Python is a *namespace*. Any variables that are assigned within a function by default are assigned to the local namespace. The local namespace is created when the function is called and is immediately populated by the function’s arguments. After the function is finished, the local namespace is destroyed.\n",
    "\n",
    "Examples:"
   ]
  },
  {
   "cell_type": "code",
   "execution_count": 17,
   "metadata": {},
   "outputs": [
    {
     "name": "stdout",
     "output_type": "stream",
     "text": [
      "height, weight, bmi INSIDE the function: 1.55 50 20.81\n",
      "status: healthy\n",
      "height, weight, bmi OUTSIDE the function: 1.79 68.7 21.44127836209856\n"
     ]
    }
   ],
   "source": [
    "height = 1.79\n",
    "weight = 68.7\n",
    "bmi = weight/height**2\n",
    "#print(\"height, weight, bmi OUTSIDE the function:\",height, weight,bmi)\n",
    "\n",
    "def compute_bmi(h, w):\n",
    "    height = h\n",
    "    weight = w\n",
    "    bmi = round(weight/height**2,2)\n",
    "    status=\"healthy\"\n",
    "    print(\"height, weight, bmi INSIDE the function:\",height, weight,bmi)\n",
    "    print(\"status:\", status)\n",
    "    return bmi\n",
    "\n",
    "compute_bmi(1.55, 50)\n",
    "\n",
    "print(\"height, weight, bmi OUTSIDE the function:\",height, weight,bmi)\n",
    "#print(status)"
   ]
  },
  {
   "attachments": {},
   "cell_type": "markdown",
   "metadata": {},
   "source": [
    "### Dictionaries\n",
    "\n",
    " A [dictionary](https://wesmckinney.com/book/python-builtin.html#dict) is basically a **lookup table**. It stores a collection of key-value pairs, where key and value are Python objects. Each key is associated with a value so that a value can be conveniently retrieved, inserted, modified, or deleted given a particular key.\n",
    "\n",
    " The dictionary or `dict` may be the most important built-in Python data structure. In other programming languages, dictionaries are sometimes called *hash maps* or *associative arrays*. \n",
    "\n",
    "\n"
   ]
  },
  {
   "cell_type": "code",
   "execution_count": 58,
   "metadata": {},
   "outputs": [],
   "source": [
    "#This was the house defined as a list of lists:\n",
    "house = [['hallway', 11.25],\n",
    " ['kitchen', 18.0],\n",
    " ['living room', 20.0],\n",
    " ['bedroom', 10.75],\n",
    " ['bathroom', 9.5]]\n",
    "\n",
    "#Remember all the disadvantages of accessing elements\n",
    "\n",
    "#Better as a lookup table:\n",
    "house = {'hallway': 11.25,\n",
    "    'kitchen': 18.0,\n",
    "    'living room': 20.0,\n",
    "    'bedroom': 10.75,\n",
    "    'bathroom': 9.5}"
   ]
  },
  {
   "cell_type": "code",
   "execution_count": 23,
   "metadata": {},
   "outputs": [
    {
     "name": "stdout",
     "output_type": "stream",
     "text": [
      "madrid\n",
      "True\n",
      "False\n",
      "dict_keys(['spain', 'france', 'germany'])\n",
      "dict_values(['madrid', 'paris', 'berlin'])\n"
     ]
    }
   ],
   "source": [
    "europe = {'spain':'madrid', 'france' : 'paris'}\n",
    "print(europe[\"spain\"])\n",
    "print(\"france\" in europe)\n",
    "print(\"paris\" in europe)#only checks the keys!\n",
    "europe[\"germany\"] = \"berlin\"\n",
    "print(europe.keys())\n",
    "print(europe.values())"
   ]
  },
  {
   "attachments": {},
   "cell_type": "markdown",
   "metadata": {},
   "source": [
    "If you need to iterate over both the keys and values, you can use the `items` method to iterate over the keys and values as 2-tuples:"
   ]
  },
  {
   "cell_type": "code",
   "execution_count": 26,
   "metadata": {},
   "outputs": [
    {
     "name": "stdout",
     "output_type": "stream",
     "text": [
      "madrid is the capital of spain\n",
      "paris is the capital of france\n",
      "berlin is the capital of germany\n"
     ]
    }
   ],
   "source": [
    "#print(list(europe.items()))\n",
    "\n",
    "for country, capital in europe.items():\n",
    "    print(capital, \"is the capital of\", country)"
   ]
  },
  {
   "attachments": {},
   "cell_type": "markdown",
   "metadata": {},
   "source": [
    "**Note**: You can use integers as keys as well. However -unlike in lists- one should not think of them as positional indices! "
   ]
  },
  {
   "cell_type": "code",
   "execution_count": 59,
   "metadata": {},
   "outputs": [
    {
     "data": {
      "text/plain": [
       "{'hallway': 11.25,\n",
       " 'kitchen': 18.0,\n",
       " 'living room': 20.0,\n",
       " 'bedroom': 10.75,\n",
       " 'bathroom': 9.5,\n",
       " 0: 21.5}"
      ]
     },
     "execution_count": 59,
     "metadata": {},
     "output_type": "execute_result"
    }
   ],
   "source": [
    "#Assume you have a basement:\n",
    "house[0] = 21.5\n",
    "house"
   ]
  },
  {
   "cell_type": "code",
   "execution_count": 61,
   "metadata": {},
   "outputs": [
    {
     "data": {
      "text/plain": [
       "{'hallway': 11.25,\n",
       " 'kitchen': 18.0,\n",
       " 'living room': 20.0,\n",
       " 'bedroom': 10.75,\n",
       " 'bathroom': 9.5,\n",
       " 0: 21.5}"
      ]
     },
     "execution_count": 61,
     "metadata": {},
     "output_type": "execute_result"
    }
   ],
   "source": [
    "#And there is a difference between the string and the integer index!\n",
    "house[\"0\"] = 30.5\n",
    "house"
   ]
  },
  {
   "attachments": {},
   "cell_type": "markdown",
   "metadata": {},
   "source": [
    "Categorize a list of words by their first letters as a dictionary of lists:"
   ]
  },
  {
   "cell_type": "code",
   "execution_count": 62,
   "metadata": {},
   "outputs": [
    {
     "data": {
      "text/plain": [
       "{'a': ['apple', 'atom'], 'b': ['bat', 'bar', 'book']}"
      ]
     },
     "execution_count": 62,
     "metadata": {},
     "output_type": "execute_result"
    }
   ],
   "source": [
    "words = [\"apple\", \"bat\", \"bar\", \"atom\", \"book\"]\n",
    "\n",
    "by_letter = {}\n",
    "\n",
    "for word in words:\n",
    "     letter = word[0]\n",
    "     if letter not in by_letter:\n",
    "        by_letter[letter] = [word]\n",
    "     else:\n",
    "         by_letter[letter].append(word)\n"
   ]
  },
  {
   "attachments": {},
   "cell_type": "markdown",
   "metadata": {},
   "source": [
    "#### Tasks\n",
    "\n",
    "\n",
    "1. Find the maximum of the areas of the houses \n",
    "2. Remove the two last entries.\n",
    "3. Write a function named word_count that takes a string as input and returns a dictionary with each word in the string as a key and the number of times it appears as the value.\n"
   ]
  },
  {
   "cell_type": "code",
   "execution_count": null,
   "metadata": {},
   "outputs": [],
   "source": []
  },
  {
   "cell_type": "code",
   "execution_count": null,
   "metadata": {},
   "outputs": [],
   "source": []
  },
  {
   "attachments": {},
   "cell_type": "markdown",
   "metadata": {},
   "source": [
    "### Introduction to numpy\n",
    "\n",
    "NumPy, short for Numerical Python, is one of the most important foundational packages for numerical computing in Python.\n",
    "\n",
    "1. Vectorized, fast mathematical operations.\n",
    "2. Key features of NumPy is its N-dimensional array object, or ndarray\n",
    "\n"
   ]
  },
  {
   "cell_type": "code",
   "execution_count": 29,
   "metadata": {},
   "outputs": [],
   "source": [
    "height = [1.79, 1.85, 1.95, 1.55]\n",
    "weight = [70, 80, 85, 65]\n",
    "\n",
    "#bmi = weight/height**2"
   ]
  },
  {
   "cell_type": "code",
   "execution_count": 28,
   "metadata": {},
   "outputs": [
    {
     "data": {
      "text/plain": [
       "array([21.84700852, 23.37472608, 22.35371466, 27.05515088])"
      ]
     },
     "execution_count": 28,
     "metadata": {},
     "output_type": "execute_result"
    }
   ],
   "source": [
    "import numpy as np\n",
    "\n",
    "height = np.array([1.79, 1.85, 1.95, 1.55])\n",
    "weight = np.array([70, 80, 85, 65])\n",
    "\n",
    "bmi = weight/height**2\n",
    "np.round(bmi,2)"
   ]
  }
 ],
 "metadata": {
  "kernelspec": {
   "display_name": ".venv",
   "language": "python",
   "name": "python3"
  },
  "language_info": {
   "codemirror_mode": {
    "name": "ipython",
    "version": 3
   },
   "file_extension": ".py",
   "mimetype": "text/x-python",
   "name": "python",
   "nbconvert_exporter": "python",
   "pygments_lexer": "ipython3",
   "version": "3.9.0"
  },
  "orig_nbformat": 4,
  "vscode": {
   "interpreter": {
    "hash": "cc4e3cb0b66e3cf40341812cc2bd10256c32822435ddcf03aec3c5d3b18cd7d2"
   }
  }
 },
 "nbformat": 4,
 "nbformat_minor": 2
}
