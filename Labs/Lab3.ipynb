{
 "cells": [
  {
   "attachments": {},
   "cell_type": "markdown",
   "metadata": {},
   "source": [
    "# Numpy Arrays, Randomness\n",
    "\n",
    "In this lab we will get to know and become experts in:\n",
    "\n",
    "1. [Numpy Arrays](#Numpy-Arrays)\n",
    "    * Slicing and Accessing\n",
    "    * Properly using axis\n",
    "2. [Random Data Generation](#Random-Data-Generation)\n",
    "    * Random integers, permutations and sampling\n",
    "3. [Simulating Probabilistic Events](#Simulating-Probabilistic-Events)\n",
    "    * \n"
   ]
  },
  {
   "attachments": {},
   "cell_type": "markdown",
   "metadata": {},
   "source": [
    "### Numpy Arrays\n",
    "\n"
   ]
  },
  {
   "attachments": {},
   "cell_type": "markdown",
   "metadata": {},
   "source": [
    "#### Tasks\n",
    "\n",
    "1. Generate a sequence from 1 to 64\n",
    "2. Print every other element\n",
    "3. Using Boolean indexing: print only those numbers that are greater than 10\n",
    "4. Reshape into a $8x8$ matrix and print its \"shape\"\n",
    "5. Compute the colum and row sums\n"
   ]
  },
  {
   "cell_type": "code",
   "execution_count": null,
   "metadata": {},
   "outputs": [],
   "source": []
  },
  {
   "attachments": {},
   "cell_type": "markdown",
   "metadata": {},
   "source": [
    "### Random Data Generation\n",
    "\n",
    "1. \"Flip a fair coin\" $20$ times and save into an array. Note that instead of using \"heads/tails\" you should \"code\" the outcome as 0/1.\n",
    "2. Randomly \"draw\" 2 integers without replacement from the sequence 1-5. Repeat this process 30 times and store the results in an array.\n",
    "3. Compute the counts"
   ]
  },
  {
   "attachments": {},
   "cell_type": "markdown",
   "metadata": {},
   "source": [
    "### Simulating Probabilistic Events\n",
    "\n",
    "1. **Overbooking flights**: airlines\n",
    "2. **Home Office** days: planning office capacities and minimizing social isolation "
   ]
  }
 ],
 "metadata": {
  "kernelspec": {
   "display_name": ".venv",
   "language": "python",
   "name": "python3"
  },
  "language_info": {
   "codemirror_mode": {
    "name": "ipython",
    "version": 3
   },
   "file_extension": ".py",
   "mimetype": "text/x-python",
   "name": "python",
   "nbconvert_exporter": "python",
   "pygments_lexer": "ipython3",
   "version": "3.9.0"
  },
  "orig_nbformat": 4,
  "vscode": {
   "interpreter": {
    "hash": "cc4e3cb0b66e3cf40341812cc2bd10256c32822435ddcf03aec3c5d3b18cd7d2"
   }
  }
 },
 "nbformat": 4,
 "nbformat_minor": 2
}
