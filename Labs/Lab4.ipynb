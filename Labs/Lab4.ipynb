{
 "cells": [
  {
   "attachments": {},
   "cell_type": "markdown",
   "metadata": {},
   "source": [
    "# Probabilistic Events\n",
    "\n",
    "More Simulations of Probabilistic Events\n"
   ]
  },
  {
   "cell_type": "code",
   "execution_count": null,
   "metadata": {},
   "outputs": [],
   "source": [
    "import numpy as np\n",
    "from numpy.random import default_rng"
   ]
  },
  {
   "attachments": {},
   "cell_type": "markdown",
   "metadata": {},
   "source": [
    "### Simulating Probabilistic Events\n",
    "\n",
    "1. **Biased Coin**: Simulate 365 days with a $p =\\frac{1}{4}$  chance of being sunny (=1). Hint: exploit the fact that $p$ is a fraction!\n",
    "2. **Birthday problem** Change the \"birthday code\" into a function with \"n = number of people in a room\" as an argument. (What other arguments might be useful?) Execute this function for $n=10, 25, 50$.\n",
    "3. **Overbooking flights**: Imagine an airline sold $105$ tickets on a flight with $100$ seats. Assuming there is a $10\\%$ no-show probability per passenger, \"compute\" (simulate) the probability that the airline will need to pay someone to not board.\n"
   ]
  }
 ],
 "metadata": {
  "kernelspec": {
   "display_name": ".venv",
   "language": "python",
   "name": "python3"
  },
  "language_info": {
   "codemirror_mode": {
    "name": "ipython",
    "version": 3
   },
   "file_extension": ".py",
   "mimetype": "text/x-python",
   "name": "python",
   "nbconvert_exporter": "python",
   "pygments_lexer": "ipython3",
   "version": "3.9.0"
  },
  "orig_nbformat": 4,
  "vscode": {
   "interpreter": {
    "hash": "cc4e3cb0b66e3cf40341812cc2bd10256c32822435ddcf03aec3c5d3b18cd7d2"
   }
  }
 },
 "nbformat": 4,
 "nbformat_minor": 2
}
