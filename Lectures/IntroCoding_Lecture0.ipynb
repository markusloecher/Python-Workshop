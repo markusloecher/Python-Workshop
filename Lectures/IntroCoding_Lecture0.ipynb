{
 "cells": [
  {
   "attachments": {},
   "cell_type": "markdown",
   "metadata": {},
   "source": [
    "# Data Types\n",
    "\n",
    "Knowing about data types in Python is crucial for several reasons:\n",
    "\n",
    "- **Correctness and reliability**: Understanding data types helps ensure that your code operates correctly and produces reliable results. By explicitly defining and handling data types, you can avoid unexpected errors or inconsistencies in your code.\n",
    "\n",
    "- **Memory optimization**: Different data types have varying memory requirements. By choosing appropriate data types, you can optimize memory usage and improve the performance of your code. For example, using integers instead of floating-point numbers can save memory if decimal precision is not necessary.\n",
    "\n",
    "- **Data manipulation and operations**: Each data type in Python has its own set of operations and methods. Understanding data types allows you to perform specific operations and manipulate data effectively. For example, you can concatenate strings, perform arithmetic calculations with numbers, or iterate over elements in a list.\n",
    "\n",
    "- **Input validation and error handling**: When receiving input from users or external sources, it is important to validate and handle the data appropriately. Knowing the expected data types allows you to validate inputs, handle errors gracefully, and provide meaningful feedback to users.\n",
    "\n",
    "- **Interoperability and integration**: Python integrates with various libraries, frameworks, and external systems. Understanding data types helps you exchange data seamlessly between different components of your code or integrate with external systems. For example, when interacting with a database, you need to understand how Python data types map to the database's data types.\n",
    "\n",
    "- **Code readability and maintainability**: Explicitly defining data types in your code improves readability and makes it easier for other developers to understand and maintain your code. It helps convey your intentions and makes the code self-documenting, reducing the chances of misinterpretation or confusion.\n",
    "\n",
    "Overall, having knowledge of data types in Python enables you to write robust, efficient, and understandable code that operates correctly with the data it handles. It empowers you to make informed decisions about memory usage, data manipulation, input validation, and code integration, leading to better overall programming proficiency."
   ]
  },
  {
   "attachments": {},
   "cell_type": "markdown",
   "metadata": {},
   "source": [
    "## Scalar Types\n",
    "\n",
    "<p>Python has a small set of built-in types for handling numerical data, strings, Boolean (<code>True</code> or <code>False</code>) values, and dates and time. These \"single value\" types are sometimes called <em>scalar types</em>, and we refer to them in this book as <em>scalars</em> . See <a href=\"#table_python_scalar_types\">Standard Python scalar types</a> for a list of the main scalar types. Date and time handling will be discussed separately, as these are provided by the <code>datetime</code> module in the standard library.</p>\n",
    "\n",
    "\n",
    "<div id=\"tbl-table_python_scalar_types\" class=\"anchored\">\n",
    "<table class=\"table\">\n",
    "<caption>Standard Python scalar types</caption>\n",
    "<thead>\n",
    "<tr class=\"header\">\n",
    "<th style=\"text-align: left;\">Type</th>\n",
    "<th style=\"text-align: left;\">Description</th>\n",
    "</tr>\n",
    "</thead>\n",
    "<tbody>\n",
    "<tr class=\"odd\">\n",
    "<td style=\"text-align: left;\"><code>None</code></td>\n",
    "<td style=\"text-align: left;\">The Python “null” value (only one instance of the <code>None</code> object exists)</td>\n",
    "</tr>\n",
    "<tr class=\"even\">\n",
    "<td style=\"text-align: left;\"><code>str</code></td>\n",
    "<td style=\"text-align: left;\">String type; holds Unicode strings</td>\n",
    "</tr>\n",
    "<tr class=\"odd\">\n",
    "<td style=\"text-align: left;\"><code>bytes</code></td>\n",
    "<td style=\"text-align: left;\">Raw binary data</td>\n",
    "</tr>\n",
    "<tr class=\"even\">\n",
    "<td style=\"text-align: left;\"><code>float</code></td>\n",
    "<td style=\"text-align: left;\">Double-precision floating-point number (note there is no separate <code>double</code> type)</td>\n",
    "</tr>\n",
    "<tr class=\"odd\">\n",
    "<td style=\"text-align: left;\"><code>bool</code></td>\n",
    "<td style=\"text-align: left;\">A Boolean <code>True</code> or <code>False</code> value</td>\n",
    "</tr>\n",
    "<tr class=\"even\">\n",
    "<td style=\"text-align: left;\"><code>int</code></td>\n",
    "<td style=\"text-align: left;\">Arbitrary precision integer</td>\n",
    "</tr>\n",
    "</tbody>\n",
    "</table>\n",
    "</div>\n"
   ]
  },
  {
   "cell_type": "code",
   "execution_count": 12,
   "metadata": {},
   "outputs": [
    {
     "data": {
      "text/plain": [
       "int"
      ]
     },
     "execution_count": 12,
     "metadata": {},
     "output_type": "execute_result"
    }
   ],
   "source": [
    "x = 5\n",
    "type(x)"
   ]
  },
  {
   "cell_type": "code",
   "execution_count": 13,
   "metadata": {},
   "outputs": [
    {
     "data": {
      "text/plain": [
       "float"
      ]
     },
     "execution_count": 13,
     "metadata": {},
     "output_type": "execute_result"
    }
   ],
   "source": [
    "y=7.5\n",
    "type(y)"
   ]
  },
  {
   "cell_type": "code",
   "execution_count": 14,
   "metadata": {},
   "outputs": [
    {
     "data": {
      "text/plain": [
       "float"
      ]
     },
     "execution_count": 14,
     "metadata": {},
     "output_type": "execute_result"
    }
   ],
   "source": [
    "type(x+y)"
   ]
  },
  {
   "attachments": {},
   "cell_type": "markdown",
   "metadata": {},
   "source": [
    "### Numeric Type\n",
    "\n",
    "<p>The primary Python types for numbers are <code>int</code> and <code>float</code>. An <code>int</code> can store arbitrarily large numbers:</p>\n"
   ]
  },
  {
   "cell_type": "code",
   "execution_count": 8,
   "metadata": {},
   "outputs": [
    {
     "data": {
      "text/plain": [
       "26254519291092456596965462913230729701102721"
      ]
     },
     "execution_count": 8,
     "metadata": {},
     "output_type": "execute_result"
    }
   ],
   "source": [
    "ival = 17239871\n",
    "ival ** 6"
   ]
  },
  {
   "attachments": {},
   "cell_type": "markdown",
   "metadata": {},
   "source": [
    "### Booleans\n",
    "\n",
    "can take only two values: `True` and `False`."
   ]
  },
  {
   "cell_type": "code",
   "execution_count": 30,
   "metadata": {},
   "outputs": [
    {
     "name": "stdout",
     "output_type": "stream",
     "text": [
      "False\n",
      "True\n",
      "True\n",
      "1\n"
     ]
    }
   ],
   "source": [
    "print(4 == 5)\n",
    "print(4 < 5)\n",
    "b = 4 != 5\n",
    "print(b)\n",
    "print(int(b))"
   ]
  },
  {
   "attachments": {},
   "cell_type": "markdown",
   "metadata": {},
   "source": [
    "## Strings\n",
    "\n",
    "<p>Many people use Python for its built-in string handling capabilities. You can write <em>string literals</em> using either single quotes <code>'</code> or double quotes <code>\"</code> (double quotes are generally favored):</p>\n"
   ]
  },
  {
   "cell_type": "code",
   "execution_count": 16,
   "metadata": {},
   "outputs": [
    {
     "data": {
      "text/plain": [
       "str"
      ]
     },
     "execution_count": 16,
     "metadata": {},
     "output_type": "execute_result"
    }
   ],
   "source": [
    "a = 'one way of writing a string'\n",
    "b = \"another way\"\n",
    "\n",
    "type(a)"
   ]
  },
  {
   "attachments": {},
   "cell_type": "markdown",
   "metadata": {},
   "source": [
    "For multiline strings with line breaks, you can use triple quotes, either `'''` or `\"\"\"`:"
   ]
  },
  {
   "cell_type": "code",
   "execution_count": 10,
   "metadata": {},
   "outputs": [],
   "source": [
    "c = \"\"\"\n",
    "This is a longer string that\n",
    "spans multiple lines\n",
    "\"\"\""
   ]
  },
  {
   "cell_type": "code",
   "execution_count": 11,
   "metadata": {},
   "outputs": [
    {
     "data": {
      "text/plain": [
       "3"
      ]
     },
     "execution_count": 11,
     "metadata": {},
     "output_type": "execute_result"
    }
   ],
   "source": [
    "c.count(\"\\n\")"
   ]
  },
  {
   "attachments": {},
   "cell_type": "markdown",
   "metadata": {},
   "source": [
    "#### Strings built-in *methods*\n"
   ]
  },
  {
   "attachments": {},
   "cell_type": "markdown",
   "metadata": {},
   "source": [
    "\n",
    "<p><strong>Note:</strong> All string methods return new values. They do not change the original string.</p>\n",
    "\n",
    "<table class=\"ws-table-all notranslate\">\n",
    "<tr>\n",
    "<th>Method</th>\n",
    "<th>Description</th>\n",
    "</tr>\n",
    "  <tr>\n",
    "    <td><a href=\"https://www.w3schools.com/python/ref_string_capitalize.asp\">capitalize()</a></td><td>Converts the first \n",
    "    character to upper case</td>\n",
    "  </tr>\n",
    "  <tr>\n",
    "    <td><a href=\"https://www.w3schools.com/python/ref_string_casefold.asp\">casefold()</a></td><td>Converts string into \n",
    "    lower case</td>\n",
    "  </tr>\n",
    "  <tr>\n",
    "    <td><a href=\"https://www.w3schools.com/python/ref_string_center.asp\">center()</a></td><td>Returns a centered \n",
    "    string</td>\n",
    "  </tr>\n",
    "  <tr>\n",
    "    <td><a href=\"https://www.w3schools.com/python/ref_string_count.asp\">count()</a></td><td>Returns the number of \n",
    "    times a specified value occurs in a string</td>\n",
    "  </tr>\n",
    "  <tr>\n",
    "    <td><a href=\"https://www.w3schools.com/python/ref_string_encode.asp\">encode()</a></td><td>Returns an encoded \n",
    "    version of the string</td>\n",
    "  </tr>\n",
    "  <tr>\n",
    "    <td><a href=\"https://www.w3schools.com/python/ref_string_endswith.asp\">endswith()</a></td><td>Returns true if the \n",
    "    string ends with the specified value</td>\n",
    "  </tr>\n",
    "  <tr>\n",
    "    <td><a href=\"https://www.w3schools.com/python/ref_string_expandtabs.asp\">expandtabs()</a></td><td>Sets the \n",
    "    tab size of the string</td>\n",
    "  </tr>\n",
    "  <tr>\n",
    "    <td><a href=\"https://www.w3schools.com/python/ref_string_find.asp\">find()</a></td><td>Searches the string for a \n",
    "    specified value and returns the position of where it was found</td>\n",
    "  </tr>\n",
    "  <tr>\n",
    "    <td><a href=\"https://www.w3schools.com/python/ref_string_format.asp\">format()</a></td><td>Formats specified \n",
    "    values in a string</td>\n",
    "  </tr>\n",
    "  <tr>\n",
    "    <td>format_map()</td><td>Formats specified \n",
    "    values in a string</td>\n",
    "  </tr>\n",
    "  <tr>\n",
    "    <td><a href=\"https://www.w3schools.com/python/ref_string_index.asp\">index()</a></td><td>Searches the string \n",
    "    for a specified value and returns the position of where it was found</td>\n",
    "  </tr>\n",
    "  <tr>\n",
    "    <td><a href=\"https://www.w3schools.com/python/ref_string_isalnum.asp\">isalnum()</a></td><td>Returns True if all \n",
    "    characters in the string are alphanumeric</td>\n",
    "  </tr>\n",
    "  <tr>\n",
    "    <td><a href=\"https://www.w3schools.com/python/ref_string_isalpha.asp\">isalpha()</a></td><td>Returns True if all \n",
    "    characters in the string are in the alphabet</td>\n",
    "  </tr>\n",
    "  <tr>\n",
    "    <td><a href=\"https://www.w3schools.com/python/ref_string_isascii.asp\">isascii()</a></td><td>Returns True if all \n",
    "    characters in the string are ascii characters</td>\n",
    "  </tr>\n",
    "  <tr>\n",
    "    <td><a href=\"https://www.w3schools.com/python/ref_string_isdecimal.asp\">isdecimal()</a></td><td>Returns True if all \n",
    "    characters in the string are decimals</td>\n",
    "  </tr>\n",
    "  <tr>\n",
    "    <td><a href=\"https://www.w3schools.com/python/ref_string_isdigit.asp\">isdigit()</a></td><td>Returns True if all \n",
    "    characters in the string are digits</td>\n",
    "  </tr>\n",
    "  <tr>\n",
    "    <td><a href=\"https://www.w3schools.com/python/ref_string_isidentifier.asp\">isidentifier()</a></td><td>Returns True if \n",
    "    the string is an identifier</td>\n",
    "  </tr>\n",
    "  <tr>\n",
    "    <td><a href=\"https://www.w3schools.com/python/ref_string_islower.asp\">islower()</a></td><td>Returns True if all \n",
    "    characters in the string are lower case</td>\n",
    "  </tr>\n",
    "  <tr>\n",
    "    <td><a href=\"https://www.w3schools.com/python/ref_string_isnumeric.asp\">isnumeric()</a></td><td>Returns True if \n",
    "    all characters in the string are numeric</td>\n",
    "  </tr>\n",
    "  <tr>\n",
    "    <td><a href=\"https://www.w3schools.com/python/ref_string_isprintable.asp\">isprintable()</a></td><td>Returns True if \n",
    "    all characters in the string are printable</td>\n",
    "  </tr>\n",
    "  <tr>\n",
    "    <td><a href=\"https://www.w3schools.com/python/ref_string_isspace.asp\">isspace()</a></td><td>Returns True if all \n",
    "    characters in the string are whitespaces</td>\n",
    "  </tr>\n",
    "  <tr>\n",
    "    <td><a href=\"https://www.w3schools.com/python/ref_string_istitle.asp\">istitle()</a></td>\n",
    "    <td>Returns True if the string follows the rules of a \n",
    "    title</td>\n",
    "  </tr>\n",
    "  <tr>\n",
    "    <td><a href=\"https://www.w3schools.com/python/ref_string_isupper.asp\">isupper()</a></td><td>Returns True if all \n",
    "    characters in the string are upper case</td>\n",
    "  </tr>\n",
    "  <tr>\n",
    "    <td><a href=\"https://www.w3schools.com/python/ref_string_join.asp\">join()</a></td><td>Converts the elements of \n",
    "    an iterable into a string</td>\n",
    "  </tr>\n",
    "  <tr>\n",
    "    <td><a href=\"https://www.w3schools.com/python/ref_string_ljust.asp\">ljust()</a></td><td>Returns a left justified \n",
    "    version of the string</td>\n",
    "  </tr>\n",
    "  <tr>\n",
    "    <td><a href=\"https://www.w3schools.com/python/ref_string_lower.asp\">lower()</a></td><td>Converts a string into \n",
    "    lower case</td>\n",
    "  </tr>\n",
    "  <tr>\n",
    "    <td><a href=\"https://www.w3schools.com/python/ref_string_lstrip.asp\">lstrip()</a></td><td>Returns a left trim \n",
    "    version of the string</td>\n",
    "  </tr>\n",
    "  <tr>\n",
    "    <td><a href=\"https://www.w3schools.com/python/ref_string_maketrans.asp\">maketrans()</a></td><td>Returns a \n",
    "    translation table to be used in translations</td>\n",
    "  </tr>\n",
    "  <tr>\n",
    "    <td><a href=\"https://www.w3schools.com/python/ref_string_partition.asp\">partition()</a></td><td>Returns a tuple \n",
    "    where the string is parted into three parts</td>\n",
    "  </tr>\n",
    "  <tr>\n",
    "    <td><a href=\"https://www.w3schools.com/python/ref_string_replace.asp\">replace()</a></td><td>Returns a string \n",
    "    where a specified value is replaced with a specified value</td>\n",
    "  </tr>\n",
    "  <tr>\n",
    "    <td><a href=\"https://www.w3schools.com/python/ref_string_rfind.asp\">rfind()</a></td><td>Searches the string for \n",
    "    a specified value and returns the last position of where it was found</td>\n",
    "  </tr>\n",
    "  <tr>\n",
    "    <td><a href=\"https://www.w3schools.com/python/ref_string_rindex.asp\">rindex()</a></td><td>Searches the string for \n",
    "    a specified value and returns the last position of where it was found</td>\n",
    "  </tr>\n",
    "  <tr>\n",
    "    <td><a href=\"https://www.w3schools.com/python/ref_string_rjust.asp\">rjust()</a></td><td>Returns a right justified \n",
    "    version of the string</td>\n",
    "  </tr>\n",
    "  <tr>\n",
    "    <td><a href=\"https://www.w3schools.com/python/ref_string_rpartition.asp\">rpartition()</a></td><td>Returns a tuple \n",
    "    where the string is parted into three parts</td>\n",
    "  </tr>\n",
    "  <tr>\n",
    "    <td><a href=\"https://www.w3schools.com/python/ref_string_rsplit.asp\">rsplit()</a></td><td>Splits the string at \n",
    "    the specified separator, and returns a list</td>\n",
    "  </tr>\n",
    "  <tr>\n",
    "    <td><a href=\"https://www.w3schools.com/python/ref_string_rstrip.asp\">rstrip()</a></td><td>Returns a right trim \n",
    "    version of the string</td>\n",
    "  </tr>\n",
    "  <tr>\n",
    "    <td><a href=\"https://www.w3schools.com/python/ref_string_split.asp\">split()</a></td><td>Splits the string at \n",
    "    the specified separator, and returns a list</td>\n",
    "  </tr>\n",
    "  <tr>\n",
    "    <td><a href=\"https://www.w3schools.com/python/ref_string_splitlines.asp\">splitlines()</a></td><td>Splits the string \n",
    "    at line breaks and returns a list</td>\n",
    "  </tr>\n",
    "  <tr>\n",
    "    <td><a href=\"https://www.w3schools.com/python/ref_string_startswith.asp\">startswith()</a></td><td>Returns true if \n",
    "    the string starts with the specified value</td>\n",
    "  </tr>\n",
    "  <tr>\n",
    "    <td><a href=\"https://www.w3schools.com/python/ref_string_strip.asp\">strip()</a></td><td>Returns a trimmed version of the string</td>\n",
    "  </tr>\n",
    "  <tr>\n",
    "    <td><a href=\"https://www.w3schools.com/python/ref_string_swapcase.asp\">swapcase()</a></td><td>Swaps cases, lower \n",
    "    case becomes upper case and vice versa</td>\n",
    "  </tr>\n",
    "  <tr>\n",
    "    <td><a href=\"https://www.w3schools.com/python/ref_string_title.asp\">title()</a></td><td>Converts the first \n",
    "    character of each word to upper case</td>\n",
    "  </tr>\n",
    "  <tr>\n",
    "    <td><a href=\"https://www.w3schools.com/python/ref_string_translate.asp\">translate()</a></td><td>Returns a \n",
    "    translated string</td>\n",
    "  </tr>\n",
    "  <tr>\n",
    "    <td><a href=\"https://www.w3schools.com/python/ref_string_upper.asp\">upper()</a></td><td>Converts a string \n",
    "    into upper case</td>\n",
    "  </tr>\n",
    "<tr><td><a href=\"https://www.w3schools.com/python/ref_string_zfill.asp\">zfill()</a></td><td>Fills the string with \n",
    "  a specified number of 0 values at the beginning</td></tr>\n",
    "</table>\n"
   ]
  },
  {
   "attachments": {},
   "cell_type": "markdown",
   "metadata": {},
   "source": [
    "### Methods\n",
    "\n",
    "Many operations/functions in python are specific to the data type even though we use the same syntax:"
   ]
  },
  {
   "cell_type": "code",
   "execution_count": 17,
   "metadata": {},
   "outputs": [
    {
     "name": "stdout",
     "output_type": "stream",
     "text": [
      "12.5\n",
      "one way of writing a stringanother way\n"
     ]
    }
   ],
   "source": [
    "print(x+y)\n",
    "print(a+b)"
   ]
  },
  {
   "attachments": {},
   "cell_type": "markdown",
   "metadata": {},
   "source": [
    "#### Type conversion\n",
    "\n",
    "We can often convert from one type to another if it makes sense:"
   ]
  },
  {
   "cell_type": "code",
   "execution_count": 18,
   "metadata": {},
   "outputs": [
    {
     "data": {
      "text/plain": [
       "'5'"
      ]
     },
     "execution_count": 18,
     "metadata": {},
     "output_type": "execute_result"
    }
   ],
   "source": [
    "str(x)"
   ]
  },
  {
   "cell_type": "code",
   "execution_count": 20,
   "metadata": {},
   "outputs": [
    {
     "data": {
      "text/plain": [
       "5.0"
      ]
     },
     "execution_count": 20,
     "metadata": {},
     "output_type": "execute_result"
    }
   ],
   "source": [
    "float(x)"
   ]
  },
  {
   "attachments": {},
   "cell_type": "markdown",
   "metadata": {},
   "source": [
    "## Immutable Objects\n",
    "\n",
    "Mutable objects are those that allow you to change their value or data in place without affecting the object’s identity. In contrast, immutable objects don’t allow this kind of operation. You’ll just have the option of creating new objects of the same type with different values.\n",
    "\n",
    "In Python, mutability is a characteristic that may profoundly influence your decision when choosing which data type to use in solving a given programming problem. Therefore, you need to know how mutable and immutable objects work in Python.\n",
    "\n",
    "In Python, variables don’t have an associated type or size, as they’re labels attached to objects in memory. They point to the memory position where concrete objects live. In other words, a Python variable is a name that refers to or holds a reference to a concrete object. In contrast, Python objects are concrete pieces of information that live in specific memory positions on your computer.\n",
    "\n",
    "The main takeaway here is that variables and objects are two different animals in Python:\n",
    "\n",
    "- **Variables** hold references to objects.\n",
    "- **Objects** live in concrete memory positions.\n",
    "\n",
    "[Read more about this topic](https://realpython.com/python-mutable-vs-immutable-types/)"
   ]
  },
  {
   "attachments": {},
   "cell_type": "markdown",
   "metadata": {},
   "source": [
    "Strings and tuples are immutable:"
   ]
  },
  {
   "cell_type": "code",
   "execution_count": 21,
   "metadata": {},
   "outputs": [
    {
     "ename": "TypeError",
     "evalue": "'str' object does not support item assignment",
     "output_type": "error",
     "traceback": [
      "\u001b[0;31m---------------------------------------------------------------------------\u001b[0m",
      "\u001b[0;31mTypeError\u001b[0m                                 Traceback (most recent call last)",
      "Cell \u001b[0;32mIn[21], line 3\u001b[0m\n\u001b[1;32m      1\u001b[0m a \u001b[39m=\u001b[39m \u001b[39m\"\u001b[39m\u001b[39mthis is a string\u001b[39m\u001b[39m\"\u001b[39m\n\u001b[0;32m----> 3\u001b[0m a[\u001b[39m10\u001b[39;49m] \u001b[39m=\u001b[39m \u001b[39m\"\u001b[39m\u001b[39mf\u001b[39m\u001b[39m\"\u001b[39m\n",
      "\u001b[0;31mTypeError\u001b[0m: 'str' object does not support item assignment"
     ]
    }
   ],
   "source": [
    "a = \"this is a string\"\n",
    "\n",
    "a[10] = \"f\""
   ]
  },
  {
   "attachments": {},
   "cell_type": "markdown",
   "metadata": {},
   "source": [
    "## Tuples\n",
    "\n",
    "<p>A <em>tuple</em> is a fixed-length, immutable sequence of Python objects which, once assigned, cannot be changed. The easiest way to create one is with a comma-separated sequence of values wrapped in parentheses:</p>\n"
   ]
  },
  {
   "cell_type": "code",
   "execution_count": 2,
   "metadata": {},
   "outputs": [
    {
     "name": "stdout",
     "output_type": "stream",
     "text": [
      "(4, 5, 6)\n",
      "(4, 'Ray', 6)\n",
      "(4, 'Ray', 6)\n"
     ]
    }
   ],
   "source": [
    "tup = (4, 5, 6)\n",
    "print(tup)\n",
    "tup = (4, \"Ray\", 6)\n",
    "print(tup)\n",
    "#In many contexts, the parentheses can be omitted\n",
    "tup = 4, \"Ray\", 6\n",
    "print(tup)"
   ]
  },
  {
   "attachments": {},
   "cell_type": "markdown",
   "metadata": {},
   "source": [
    "Elements can be accessed with square brackets [] as with most other sequence types. As in C, C++, Java, and many other languages, sequences are 0-indexed in Python:"
   ]
  },
  {
   "cell_type": "code",
   "execution_count": 3,
   "metadata": {},
   "outputs": [
    {
     "data": {
      "text/plain": [
       "4"
      ]
     },
     "execution_count": 3,
     "metadata": {},
     "output_type": "execute_result"
    }
   ],
   "source": [
    "tup[0]"
   ]
  },
  {
   "cell_type": "code",
   "execution_count": 4,
   "metadata": {},
   "outputs": [
    {
     "ename": "TypeError",
     "evalue": "'tuple' object does not support item assignment",
     "output_type": "error",
     "traceback": [
      "\u001b[0;31m---------------------------------------------------------------------------\u001b[0m",
      "\u001b[0;31mTypeError\u001b[0m                                 Traceback (most recent call last)",
      "Cell \u001b[0;32mIn[4], line 2\u001b[0m\n\u001b[1;32m      1\u001b[0m \u001b[39m#but you cannot change the value:\u001b[39;00m\n\u001b[0;32m----> 2\u001b[0m tup[\u001b[39m0\u001b[39;49m] \u001b[39m=\u001b[39m \u001b[39m3\u001b[39m\n",
      "\u001b[0;31mTypeError\u001b[0m: 'tuple' object does not support item assignment"
     ]
    }
   ],
   "source": [
    "#but you cannot change the value:\n",
    "tup[0] = 3"
   ]
  },
  {
   "attachments": {},
   "cell_type": "markdown",
   "metadata": {},
   "source": [
    "You can concatenate tuples using the `+` operator to produce longer tuples:"
   ]
  },
  {
   "cell_type": "code",
   "execution_count": 25,
   "metadata": {},
   "outputs": [
    {
     "data": {
      "text/plain": [
       "(4, None, 'foo', 6, 0, 'bar')"
      ]
     },
     "execution_count": 25,
     "metadata": {},
     "output_type": "execute_result"
    }
   ],
   "source": [
    "(4, None, 'foo') + (6, 0) + ('bar',)"
   ]
  },
  {
   "attachments": {},
   "cell_type": "markdown",
   "metadata": {},
   "source": [
    "Multiplying a tuple by an integer, as with lists, has the effect of concatenating that many copies of the tuple:"
   ]
  },
  {
   "cell_type": "code",
   "execution_count": 26,
   "metadata": {},
   "outputs": [
    {
     "data": {
      "text/plain": [
       "('foo', 'bar', 'foo', 'bar', 'foo', 'bar', 'foo', 'bar')"
      ]
     },
     "execution_count": 26,
     "metadata": {},
     "output_type": "execute_result"
    }
   ],
   "source": [
    "('foo', 'bar') * 4"
   ]
  },
  {
   "attachments": {},
   "cell_type": "markdown",
   "metadata": {},
   "source": [
    "#### Unpacking tuples\n",
    "\n",
    "If you try to assign to a tuple-like expression of variables, Python will attempt to unpack the value on the righthand side of the equals sign:"
   ]
  },
  {
   "cell_type": "code",
   "execution_count": 27,
   "metadata": {},
   "outputs": [],
   "source": [
    "tup = (4, 5, 6)\n",
    "a, b, c = tup"
   ]
  }
 ],
 "metadata": {
  "kernelspec": {
   "display_name": ".venv",
   "language": "python",
   "name": "python3"
  },
  "language_info": {
   "codemirror_mode": {
    "name": "ipython",
    "version": 3
   },
   "file_extension": ".py",
   "mimetype": "text/x-python",
   "name": "python",
   "nbconvert_exporter": "python",
   "pygments_lexer": "ipython3",
   "version": "3.9.0"
  },
  "orig_nbformat": 4,
  "vscode": {
   "interpreter": {
    "hash": "cc4e3cb0b66e3cf40341812cc2bd10256c32822435ddcf03aec3c5d3b18cd7d2"
   }
  }
 },
 "nbformat": 4,
 "nbformat_minor": 2
}
