{
 "cells": [
  {
   "attachments": {},
   "cell_type": "markdown",
   "metadata": {
    "id": "kqfFgNEyeZsf"
   },
   "source": [
    "# Intro to numpy\n",
    "\n",
    "In this lecture we will get to know and become experts in:\n",
    "\n",
    "1. [Introduction to numpy](#Introduction-to-numpy)\n",
    "    * DataCamp, [Introduction to Python](https://app.datacamp.com/learn/courses/intro-to-python-for-data-science), Chap 4\n",
    "    * [Multiple Dimensions](#Multiple-Dimensions)\n",
    "    * [Data Summaries in numpy](#Data-Summaries-in-numpy)\n",
    "2. Introduction to **Simulating Probabilistic Events**\n",
    "    * [Generating Data in numpy](#Generating-Data-in-numpy)\n"
   ]
  },
  {
   "cell_type": "code",
   "execution_count": 1,
   "metadata": {},
   "outputs": [],
   "source": []
  },
  {
   "cell_type": "code",
   "execution_count": 2,
   "metadata": {
    "id": "HMxj-HF9efu9"
   },
   "outputs": [],
   "source": [
    "import numpy as np\n",
    "from numpy.random import default_rng"
   ]
  },
  {
   "attachments": {},
   "cell_type": "markdown",
   "metadata": {
    "id": "bCze_ZzkeZsj"
   },
   "source": [
    "## Introduction to numpy\n",
    "\n",
    "NumPy, short for Numerical Python, is one of the most important foundational packages for numerical computing in Python.\n",
    "\n",
    "1. Vectorized, fast mathematical operations.\n",
    "2. Key features of NumPy is its N-dimensional array object, or ndarray\n",
    "\n"
   ]
  },
  {
   "cell_type": "code",
   "execution_count": 3,
   "metadata": {
    "id": "H6zKvN0NeZsk"
   },
   "outputs": [],
   "source": [
    "height = [1.79, 1.85, 1.95, 1.55]\n",
    "weight = [70, 80, 85, 65]\n",
    "\n",
    "#bmi = weight/height**2"
   ]
  },
  {
   "cell_type": "code",
   "execution_count": 4,
   "metadata": {
    "colab": {
     "base_uri": "https://localhost:8080/"
    },
    "executionInfo": {
     "elapsed": 8,
     "status": "ok",
     "timestamp": 1682343322669,
     "user": {
      "displayName": "Markus Loecher",
      "userId": "02488037228155275753"
     },
     "user_tz": -120
    },
    "id": "EcLlGWeieZsm",
    "outputId": "363076f4-f8a8-4dc8-c945-c55b611cec55"
   },
   "outputs": [
    {
     "data": {
      "text/plain": [
       "array([21.84700852, 23.37472608, 22.35371466, 27.05515088])"
      ]
     },
     "execution_count": 3,
     "metadata": {},
     "output_type": "execute_result"
    }
   ],
   "source": [
    "height = np.array([1.79, 1.85, 1.95, 1.55])\n",
    "weight = np.array([70, 80, 85, 65])\n",
    "\n",
    "bmi = weight/height**2\n",
    "bmi"
   ]
  },
  {
   "attachments": {},
   "cell_type": "markdown",
   "metadata": {
    "id": "6HLMLXpjeZsn"
   },
   "source": [
    "### Multiple Dimensions\n",
    "\n",
    "are handled naturally by numpy, e.g."
   ]
  },
  {
   "cell_type": "code",
   "execution_count": 5,
   "metadata": {
    "id": "NkZA9pHLeZsn",
    "outputId": "28503df8-2a76-418e-909b-0777b13cc121"
   },
   "outputs": [
    {
     "name": "stdout",
     "output_type": "stream",
     "text": [
      "[[ 1.79  1.85  1.95  1.55]\n",
      " [70.   80.   85.   65.  ]]\n",
      "(2, 4)\n",
      "[[ 1.79 70.  ]\n",
      " [ 1.85 80.  ]\n",
      " [ 1.95 85.  ]\n",
      " [ 1.55 65.  ]]\n",
      "(4, 2)\n"
     ]
    }
   ],
   "source": [
    "hw1 = np.array([height, weight])\n",
    "print(hw1)\n",
    "print(hw1.shape)\n",
    "hw2 = hw1.transpose()\n",
    "print(hw2)\n",
    "print(hw2.shape)\n"
   ]
  },
  {
   "attachments": {},
   "cell_type": "markdown",
   "metadata": {
    "id": "7gJ5zO1feZso"
   },
   "source": [
    "### Accessing array elements\n",
    "\n",
    "is similar to lists but allows for multidimensional index:"
   ]
  },
  {
   "cell_type": "code",
   "execution_count": 6,
   "metadata": {
    "id": "2R6yaWXKeZso",
    "outputId": "eba6fbef-874c-429f-cfec-cfd755a991a2"
   },
   "outputs": [
    {
     "name": "stdout",
     "output_type": "stream",
     "text": [
      "70.0\n"
     ]
    }
   ],
   "source": [
    "print(hw2[0,1])"
   ]
  },
  {
   "cell_type": "code",
   "execution_count": 7,
   "metadata": {
    "id": "evuEeHOKeZsp",
    "outputId": "05c3f54a-705d-4994-ead0-5b4f809ddd41"
   },
   "outputs": [
    {
     "name": "stdout",
     "output_type": "stream",
     "text": [
      "[1.79 1.85 1.95 1.55]\n"
     ]
    }
   ],
   "source": [
    "print(hw2[:,0])"
   ]
  },
  {
   "cell_type": "code",
   "execution_count": 8,
   "metadata": {
    "id": "aJor4pR7eZsp",
    "outputId": "e340e04a-a41a-4dcb-ece9-439a76571bce"
   },
   "outputs": [
    {
     "name": "stdout",
     "output_type": "stream",
     "text": [
      "[ 1.79 70.  ]\n",
      "[ 1.79 70.  ]\n",
      "(2,)\n"
     ]
    }
   ],
   "source": [
    "print(hw2[0])\n",
    "#equivalent to\n",
    "print(hw2[0,:])\n",
    "#shape:\n",
    "print(hw2[0].shape)"
   ]
  },
  {
   "attachments": {},
   "cell_type": "markdown",
   "metadata": {
    "id": "xNCkcc5HeZsq"
   },
   "source": [
    "To select a subset of the rows in a particular order, you can simply pass a list or ndarray of integers specifying the desired order:"
   ]
  },
  {
   "cell_type": "code",
   "execution_count": 9,
   "metadata": {
    "id": "S_tdPG3YeZsq",
    "outputId": "09132195-f239-48a2-bb42-05e194398b3f"
   },
   "outputs": [
    {
     "name": "stdout",
     "output_type": "stream",
     "text": [
      "[[ 1.95 85.  ]\n",
      " [ 1.79 70.  ]\n",
      " [ 1.85 80.  ]]\n"
     ]
    }
   ],
   "source": [
    "print(hw2[[2,0,1]])"
   ]
  },
  {
   "attachments": {},
   "cell_type": "markdown",
   "metadata": {
    "id": "_fMi8fK_eZsq"
   },
   "source": [
    "Negative indices"
   ]
  },
  {
   "cell_type": "code",
   "execution_count": 10,
   "metadata": {
    "id": "1wJ3-5H3eZsr",
    "outputId": "d5fe2e56-92e2-4fea-91fd-41133c66f935"
   },
   "outputs": [
    {
     "name": "stdout",
     "output_type": "stream",
     "text": [
      "[[ 1.79 70.  ]\n",
      " [ 1.85 80.  ]\n",
      " [ 1.95 85.  ]\n",
      " [ 1.55 65.  ]]\n",
      "Using negative indices selects rows from the end:\n",
      "[[ 1.95 85.  ]\n",
      " [ 1.55 65.  ]]\n"
     ]
    }
   ],
   "source": [
    "print(hw2)\n",
    "print(\"Using negative indices selects rows from the end:\")\n",
    "print(hw2[[-2,-1]])"
   ]
  },
  {
   "attachments": {},
   "cell_type": "markdown",
   "metadata": {
    "id": "jZmBFeLMeZsr"
   },
   "source": [
    "You can pass multiple slices just like you can pass multiple indexes:"
   ]
  },
  {
   "cell_type": "code",
   "execution_count": 11,
   "metadata": {
    "id": "0THbLi8deZsr",
    "outputId": "baac1c58-2a31-4ec5-9034-158623bf75ee"
   },
   "outputs": [
    {
     "data": {
      "text/plain": [
       "array([[1.79],\n",
       "       [1.85]])"
      ]
     },
     "execution_count": 10,
     "metadata": {},
     "output_type": "execute_result"
    }
   ],
   "source": [
    "hw2[:2,:1]"
   ]
  },
  {
   "attachments": {},
   "cell_type": "markdown",
   "metadata": {
    "id": "roHZnlY5eZss"
   },
   "source": [
    "#### Reshaping"
   ]
  },
  {
   "cell_type": "code",
   "execution_count": 12,
   "metadata": {
    "id": "-VNSXNeHeZss",
    "outputId": "774827a0-2417-4a81-b923-9fb9868b8ae4"
   },
   "outputs": [
    {
     "data": {
      "text/plain": [
       "array([[ 0,  1,  2,  3],\n",
       "       [ 4,  5,  6,  7],\n",
       "       [ 8,  9, 10, 11],\n",
       "       [12, 13, 14, 15],\n",
       "       [16, 17, 18, 19],\n",
       "       [20, 21, 22, 23],\n",
       "       [24, 25, 26, 27],\n",
       "       [28, 29, 30, 31]])"
      ]
     },
     "execution_count": 11,
     "metadata": {},
     "output_type": "execute_result"
    }
   ],
   "source": [
    "np.arange(32).reshape((8, 4))"
   ]
  },
  {
   "attachments": {},
   "cell_type": "markdown",
   "metadata": {
    "id": "c2yLPb-feZss"
   },
   "source": [
    "#### Boolean indexing\n",
    "\n"
   ]
  },
  {
   "cell_type": "code",
   "execution_count": 13,
   "metadata": {
    "id": "IZc1Q5b7eZss",
    "outputId": "018e4468-829f-4f8a-a96b-9dd0b572d8ef"
   },
   "outputs": [
    {
     "name": "stdout",
     "output_type": "stream",
     "text": [
      "[False False  True False]\n",
      "[85.]\n"
     ]
    }
   ],
   "source": [
    "height_gt_185 = hw2[:,0]>1.85\n",
    "print(height_gt_185)\n",
    "print(hw2[height_gt_185,1])"
   ]
  },
  {
   "attachments": {},
   "cell_type": "markdown",
   "metadata": {
    "id": "dwQ5KeMueZst"
   },
   "source": [
    "`numpy` arrays cannot contain elements with different types. If you try to build such a list, some of the elements' types are changed to end up with a homogeneous list. This is known as **type coercion**."
   ]
  },
  {
   "cell_type": "code",
   "execution_count": 14,
   "metadata": {
    "id": "sLNVP5zWeZst",
    "outputId": "620d3cf4-37c1-4ab0-ae18-87e5918283d9"
   },
   "outputs": [
    {
     "name": "stdout",
     "output_type": "stream",
     "text": [
      "[1 1 2]\n",
      "['True' '1' '2']\n",
      "[1.3 1.  2. ]\n"
     ]
    }
   ],
   "source": [
    "print(np.array([True, 1, 2]))\n",
    "print(np.array([\"True\", 1, 2]))\n",
    "print(np.array([1.3, 1, 2]))"
   ]
  },
  {
   "attachments": {},
   "cell_type": "markdown",
   "metadata": {
    "id": "wgSx2z40eZst"
   },
   "source": [
    "Lots of extra useful functions!"
   ]
  },
  {
   "cell_type": "code",
   "execution_count": 15,
   "metadata": {
    "id": "Q33S3N4MeZst",
    "outputId": "96988fca-2239-46fc-82f5-d614ca75e27b"
   },
   "outputs": [
    {
     "data": {
      "text/plain": [
       "array([[0., 0., 0.],\n",
       "       [0., 0., 0.]])"
      ]
     },
     "execution_count": 14,
     "metadata": {},
     "output_type": "execute_result"
    }
   ],
   "source": [
    "np.zeros((2,3))\n",
    "#np.ones((2,3))"
   ]
  },
  {
   "cell_type": "code",
   "execution_count": 16,
   "metadata": {
    "id": "HoLnI5r3eZst",
    "outputId": "51754adb-f5e7-4a1c-d8da-fa4cdd5231e9"
   },
   "outputs": [
    {
     "data": {
      "text/plain": [
       "array([[1., 0., 0.],\n",
       "       [0., 1., 0.],\n",
       "       [0., 0., 1.]])"
      ]
     },
     "execution_count": 15,
     "metadata": {},
     "output_type": "execute_result"
    }
   ],
   "source": [
    "np.eye(3)"
   ]
  },
  {
   "cell_type": "code",
   "execution_count": 17,
   "metadata": {
    "id": "hIuZwwX0eZsu",
    "outputId": "a4de7693-4483-4bc2-a8d3-967523f65e8b"
   },
   "outputs": [
    {
     "data": {
      "text/plain": [
       "array([[ 1.79, 70.  ],\n",
       "       [ 1.85, 80.  ],\n",
       "       [ 1.95, 85.  ],\n",
       "       [ 1.55, 65.  ]])"
      ]
     },
     "execution_count": 16,
     "metadata": {},
     "output_type": "execute_result"
    }
   ],
   "source": [
    "np.column_stack([height, weight])"
   ]
  },
  {
   "attachments": {},
   "cell_type": "markdown",
   "metadata": {
    "id": "0MF2YkJzeZsu"
   },
   "source": [
    "## Data Summaries in numpy\n",
    "\n",
    "We can compute simple statistics:"
   ]
  },
  {
   "cell_type": "code",
   "execution_count": 18,
   "metadata": {
    "id": "rYHcAml6eZsu",
    "outputId": "cc4ac721-2bd1-49e8-a97d-dc6b12b1d99c"
   },
   "outputs": [
    {
     "name": "stdout",
     "output_type": "stream",
     "text": [
      "38.3925\n",
      "[ 1.785 75.   ]\n"
     ]
    }
   ],
   "source": [
    "print(np.mean(hw2))\n",
    "print(np.mean(hw2, axis=0))"
   ]
  },
  {
   "cell_type": "code",
   "execution_count": 19,
   "metadata": {
    "id": "2jiOKYLaeZsu",
    "outputId": "9e1a92ab-d150-457d-a75e-ea05714369dd"
   },
   "outputs": [
    {
     "name": "stdout",
     "output_type": "stream",
     "text": [
      "[1 2 3]\n",
      "(array([1, 2, 3]), array([3, 4, 2], dtype=int64))\n"
     ]
    }
   ],
   "source": [
    "print(np.unique([1,1,2,1,2,3,2,2,3]))\n",
    "\n",
    "print(np.unique([1,1,2,1,2,3,2,2,3], return_counts=True))"
   ]
  },
  {
   "attachments": {},
   "cell_type": "markdown",
   "metadata": {
    "id": "Uc57mxbieZsu"
   },
   "source": [
    "## Introduction to **Simulating Probabilistic Events**"
   ]
  },
  {
   "attachments": {},
   "cell_type": "markdown",
   "metadata": {
    "id": "W2V-yMFDeZsv"
   },
   "source": [
    "### Generating Data in numpy\n",
    "\n",
    "Meet your [friends](https://numpy.org/doc/stable/reference/random/index.html):\n",
    "\n",
    "1. `np.random.permutation`: Return a random permutation of a sequence, or return a permuted range\n",
    "2. `np.random.integers`: Draw random integers from a given low-to-high range\n",
    "3. `np.random.choice`: Generates a random sample from a given 1-D array\n",
    "\n"
   ]
  },
  {
   "cell_type": "code",
   "execution_count": 20,
   "metadata": {
    "id": "T4GbENOjeZsv",
    "outputId": "51bd2e17-c7f1-4614-8cd5-34e0f68b9beb"
   },
   "outputs": [
    {
     "name": "stdout",
     "output_type": "stream",
     "text": [
      "[0 1 2 3 4 5 6 7 8 9]\n",
      "[6 7 9 4 1 0 3 8 2 5]\n",
      "['t' 'c' 'n' 'l' 'e' 'n' 'i' 'e' 'e' 'l' 'i' 'g']\n"
     ]
    }
   ],
   "source": [
    "# Do this (new version)\n",
    "from numpy.random import default_rng\n",
    "rng = default_rng()\n",
    "\n",
    "x= np.arange(10)\n",
    "print(x)\n",
    "print(rng.permutation(x))\n",
    "print(rng.permutation(list('intelligence')))"
   ]
  },
  {
   "cell_type": "code",
   "execution_count": 21,
   "metadata": {
    "id": "mPdny7DEeZsv",
    "outputId": "9e4cdc35-b332-407c-f241-40fa1fe263b3"
   },
   "outputs": [
    {
     "name": "stdout",
     "output_type": "stream",
     "text": [
      "[7 9 7 9 4]\n",
      "[[9 0]\n",
      " [8 6]\n",
      " [6 7]\n",
      " [0 5]\n",
      " [1 5]]\n"
     ]
    }
   ],
   "source": [
    "print(rng.integers(0,10,5))\n",
    "print(rng.integers(0,10,(5,2)))"
   ]
  },
  {
   "cell_type": "code",
   "execution_count": 22,
   "metadata": {
    "id": "TsRe2qpweZsv",
    "outputId": "d0e99124-c586-46eb-9f55-6a2ba70d3a02"
   },
   "outputs": [
    {
     "data": {
      "text/plain": [
       "array([8, 5, 1, 4])"
      ]
     },
     "execution_count": 21,
     "metadata": {},
     "output_type": "execute_result"
    }
   ],
   "source": [
    "rng.choice(x,4)"
   ]
  },
  {
   "attachments": {},
   "cell_type": "markdown",
   "metadata": {
    "id": "7JXEg7E5eZsv"
   },
   "source": [
    "### Examples:\n",
    "\n",
    "- Spotify playlist\n",
    "- Movie List"
   ]
  },
  {
   "attachments": {},
   "cell_type": "markdown",
   "metadata": {
    "id": "gIY_Bqj0eZsw"
   },
   "source": []
  },
  {
   "cell_type": "code",
   "execution_count": 23,
   "metadata": {
    "id": "zAHjqCFfeZsw",
    "outputId": "dbe6afa7-e1a0-4b5f-f3b3-92a542ff2bad"
   },
   "outputs": [
    {
     "name": "stdout",
     "output_type": "stream",
     "text": [
      "['The Shawshank Redemption' 'The Godfather']\n"
     ]
    }
   ],
   "source": [
    "movies_list = ['The Godfather', 'The Wizard of Oz', 'Citizen Kane', 'The Shawshank Redemption', 'Pulp Fiction']\n",
    "\n",
    "# pick a random choice from a list of strings.\n",
    "movie = rng.choice(movies_list,2)\n",
    "print(movie)"
   ]
  },
  {
   "attachments": {},
   "cell_type": "markdown",
   "metadata": {
    "id": "6aeBjNIveZsw"
   },
   "source": [
    "## Birthday \"Paradox\"\n",
    "\n",
    "Please enter your birthday on google drive\n",
    "https://forms.gle/CeqyRZ4QzWRmJFvs9\n",
    "\n",
    "How many people do you think will share a birthday?\n",
    "Would that be a rare, highly unusual event?"
   ]
  },
  {
   "attachments": {},
   "cell_type": "markdown",
   "metadata": {
    "id": "lFP4nQG6eZsx"
   },
   "source": [
    "How can we find out how likely it is that across $n$ folks in a room at least two share a birthday?\n",
    "\n",
    "Hint: can we put our random number generators to task ?"
   ]
  },
  {
   "cell_type": "code",
   "execution_count": 25,
   "metadata": {
    "id": "1UNMfJq5uyAY"
   },
   "outputs": [],
   "source": [
    "# Can you simulate 25 birthdays?\n",
    "from numpy.random import default_rng \n",
    "rng = default_rng()\n",
    "\n",
    "\n",
    "#initialize it to be the empty list:\n",
    "shardBday = []\n",
    "\n",
    "n = 40\n",
    "\n",
    "PossibleBDays = np.arange(1,366)\n",
    "#now \"draw\" 25 random bDays:\n",
    "for i in range(1000):# is the 1000 an important number ??\n",
    "#no it only determines the precision of my estimate !!\n",
    "  ran25Bdays = rng.choice(PossibleBDays, n, replace = True)\n",
    "  #it is of utmost importance to allow for same birthdays !! \n",
    "  #rng.choice(PossibleBDays, 366, replace = False)\n",
    "  x , cts = np.unique(ran25Bdays ,return_counts=True)\n",
    "  shardBday = np.append(shardBday, np.sum(cts>1))#keep this !!\n",
    "  #shardBday = np.sum(cts>1)"
   ]
  },
  {
   "cell_type": "code",
   "execution_count": 26,
   "metadata": {
    "id": "HGqeG7Vbz7Bo"
   },
   "outputs": [
    {
     "data": {
      "text/plain": [
       "0.893"
      ]
     },
     "execution_count": 25,
     "metadata": {},
     "output_type": "execute_result"
    }
   ],
   "source": [
    "#np.sum(shardBday>0)/1000\n",
    "np.mean(shardBday > 0)\n",
    "\n",
    "#shardBday = 2"
   ]
  },
  {
   "cell_type": "code",
   "execution_count": 27,
   "metadata": {
    "colab": {
     "base_uri": "https://localhost:8080/"
    },
    "executionInfo": {
     "elapsed": 450,
     "status": "ok",
     "timestamp": 1682349860273,
     "user": {
      "displayName": "Markus Loecher",
      "userId": "02488037228155275753"
     },
     "user_tz": -120
    },
    "id": "VdGRspUt3FsC",
    "outputId": "58c4314d-281c-4de3-8490-c4f6ae602254"
   },
   "outputs": [
    {
     "data": {
      "text/plain": [
       "True"
      ]
     },
     "execution_count": 26,
     "metadata": {},
     "output_type": "execute_result"
    }
   ],
   "source": [
    "5 != 3 #not equal"
   ]
  },
  {
   "cell_type": "code",
   "execution_count": 28,
   "metadata": {
    "colab": {
     "base_uri": "https://localhost:8080/"
    },
    "executionInfo": {
     "elapsed": 358,
     "status": "ok",
     "timestamp": 1682348408450,
     "user": {
      "displayName": "Markus Loecher",
      "userId": "02488037228155275753"
     },
     "user_tz": -120
    },
    "id": "pWRIgdC2w2I5",
    "outputId": "e270d514-4a3f-4b35-b833-deef6b8de853"
   },
   "outputs": [
    {
     "data": {
      "text/plain": [
       "array([ 71, 192])"
      ]
     },
     "execution_count": 27,
     "metadata": {},
     "output_type": "execute_result"
    }
   ],
   "source": [
    "#Boolean indexing !!\n",
    "x[cts > 1]"
   ]
  },
  {
   "cell_type": "code",
   "execution_count": 29,
   "metadata": {
    "colab": {
     "base_uri": "https://localhost:8080/"
    },
    "executionInfo": {
     "elapsed": 6,
     "status": "ok",
     "timestamp": 1682348347141,
     "user": {
      "displayName": "Markus Loecher",
      "userId": "02488037228155275753"
     },
     "user_tz": -120
    },
    "id": "Y33RJmWTxeJg",
    "outputId": "a0f3eb37-06ed-42bf-ee01-9ee15dcd9476"
   },
   "outputs": [
    {
     "data": {
      "text/plain": [
       "182"
      ]
     },
     "execution_count": 28,
     "metadata": {},
     "output_type": "execute_result"
    }
   ],
   "source": [
    "x[23]"
   ]
  },
  {
   "cell_type": "code",
   "execution_count": 30,
   "metadata": {
    "colab": {
     "base_uri": "https://localhost:8080/"
    },
    "executionInfo": {
     "elapsed": 1615,
     "status": "ok",
     "timestamp": 1682350145574,
     "user": {
      "displayName": "Markus Loecher",
      "userId": "02488037228155275753"
     },
     "user_tz": -120
    },
    "id": "fjJkZTiQxLb8",
    "outputId": "d267fda5-2dac-462f-f22b-ebf57add3d9c"
   },
   "outputs": [
    {
     "data": {
      "text/plain": [
       "(array([0, 1]), array([189, 176], dtype=int64))"
      ]
     },
     "execution_count": 29,
     "metadata": {},
     "output_type": "execute_result"
    }
   ],
   "source": [
    "#can you design a coin flip with an arbitary probability p = 0.25\n",
    "#simulate 365 days with a 1/4 chance of being sunny\n",
    "\n",
    "#fair coin\n",
    "coins = np.random.randint(0,2,365)\n",
    "\n",
    "np.unique(coins, return_counts=True)\n"
   ]
  },
  {
   "attachments": {},
   "cell_type": "markdown",
   "metadata": {
    "id": "hqVYLg-peZsx"
   },
   "source": [
    "------------------------------------------\n",
    "### Tossing dice and coins\n",
    "\n",
    "Let us toss many dice or coins to find out:\n",
    "- the average value of a six-faced die\n",
    "- the variation around the mean when averaging\n",
    "- the probability of various \"common hands\" in the game [Liar's Dice](https://en.wikipedia.org/wiki/Liar's_dice):\n",
    "    * Full house: e.g., 66111\n",
    "    * Three of a kind: e.g., 44432\n",
    "    * Two pair: e.g., 22551\n",
    "    * Pair: e.g., 66532\n",
    "\n",
    "Some real world problems:\n",
    "1. **Overbooking flights**: airlines\n",
    "2. **Home Office** days: planning office capacities and minimizing social isolation \n"
   ]
  }
 ],
 "metadata": {
  "colab": {
   "provenance": []
  },
  "kernelspec": {
   "display_name": ".venv",
   "language": "python",
   "name": "python3"
  },
  "language_info": {
   "codemirror_mode": {
    "name": "ipython",
    "version": 3
   },
   "file_extension": ".py",
   "mimetype": "text/x-python",
   "name": "python",
   "nbconvert_exporter": "python",
   "pygments_lexer": "ipython3",
   "version": "3.9.0"
  },
  "vscode": {
   "interpreter": {
    "hash": "cc4e3cb0b66e3cf40341812cc2bd10256c32822435ddcf03aec3c5d3b18cd7d2"
   }
  }
 },
 "nbformat": 4,
 "nbformat_minor": 0
}
